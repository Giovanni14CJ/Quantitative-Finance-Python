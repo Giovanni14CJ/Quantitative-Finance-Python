{
 "cells": [
  {
   "cell_type": "markdown",
   "metadata": {},
   "source": [
    "#Importamos las dependencias"
   ]
  },
  {
   "cell_type": "code",
   "execution_count": 7,
   "metadata": {},
   "outputs": [],
   "source": [
    "import yfinance as yf\n",
    "import scipy.io\n",
    "import numpy as np"
   ]
  },
  {
   "cell_type": "markdown",
   "metadata": {},
   "source": [
    "#Creamos un diccionario con las acciones y sus tickets de Yahoo Finance"
   ]
  },
  {
   "cell_type": "code",
   "execution_count": 1,
   "metadata": {},
   "outputs": [],
   "source": [
    "acciones = [\n",
    "    {\"Nombre\": \"CHDRAUI\", \"Simbolo\": \"CHDRAUIB.MX\"},\n",
    "    {\"Nombre\": \"NAFTRAC\", \"Simbolo\": \"NAFTRACISHRS.MX\"},\n",
    "    {\"Nombre\": \"IPC\", \"Simbolo\": \"^MXX\"},\n",
    "    {\"Nombre\": \"VMEX\", \"Simbolo\": \"VMEX19.MX\"}\n",
    "]"
   ]
  },
  {
   "cell_type": "markdown",
   "metadata": {},
   "source": [
    "#Creamos variables para guardar los resultados"
   ]
  },
  {
   "cell_type": "code",
   "execution_count": 2,
   "metadata": {},
   "outputs": [],
   "source": [
    "Lista_Acciones = []\n",
    "Matriz_Accion = []"
   ]
  },
  {
   "cell_type": "markdown",
   "metadata": {},
   "source": [
    "#Descargargamos los datos históricos"
   ]
  },
  {
   "cell_type": "code",
   "execution_count": 3,
   "metadata": {},
   "outputs": [
    {
     "name": "stdout",
     "output_type": "stream",
     "text": [
      "Descargando datos para: CHDRAUI (CHDRAUIB.MX)...\n",
      "Error al descargar datos para: CHDRAUI (CHDRAUIB.MX): name 'yf' is not defined\n",
      "Descargando datos para: NAFTRAC (NAFTRACISHRS.MX)...\n",
      "Error al descargar datos para: NAFTRAC (NAFTRACISHRS.MX): name 'yf' is not defined\n",
      "Descargando datos para: IPC (^MXX)...\n",
      "Error al descargar datos para: IPC (^MXX): name 'yf' is not defined\n",
      "Descargando datos para: VMEX (VMEX19.MX)...\n",
      "Error al descargar datos para: VMEX (VMEX19.MX): name 'yf' is not defined\n"
     ]
    }
   ],
   "source": [
    "for accion in acciones:\n",
    "    simbolo = accion[\"Simbolo\"]\n",
    "    nombre = accion[\"Nombre\"]\n",
    "    print(f\"Descargando datos para: {nombre} ({simbolo})...\")\n",
    "    \n",
    "    try:\n",
    "        # Descargar datos usando yfinance\n",
    "        data = yf.download(simbolo, start=\"2024-01-01\", end=\"2024-11-29\", progress=False)\n",
    "        \n",
    "        # Extraer precios ajustados (Adj Close)\n",
    "        precios = data['Adj Close']\n",
    "        \n",
    "        # Verificar si hay valores faltantes (NA)\n",
    "        if precios.isna().any():\n",
    "            print(f\"Advertencia: La serie de {nombre} contiene valores faltantes. Reemplazando...\")\n",
    "            precios.fillna(precios.mean(), inplace=True)  # Reemplazar valores faltantes con el promedio\n",
    "        \n",
    "        # Convertir a una lista de valores numéricos\n",
    "        precios = precios.tolist()\n",
    "        \n",
    "        # Agregar datos a las listas\n",
    "        Lista_Acciones.append(nombre)\n",
    "        Matriz_Accion.append({\"Nombre\": nombre, \"Datos\": precios})\n",
    "    \n",
    "    except Exception as e:\n",
    "        print(f\"Error al descargar datos para: {nombre} ({simbolo}): {str(e)}\")\n",
    "        Lista_Acciones.append(nombre)\n",
    "        Matriz_Accion.append({\"Nombre\": nombre, \"Datos\": []})"
   ]
  },
  {
   "cell_type": "markdown",
   "metadata": {},
   "source": [
    "#Revisamos la estructura antes de guardar"
   ]
  },
  {
   "cell_type": "code",
   "execution_count": 4,
   "metadata": {},
   "outputs": [
    {
     "name": "stdout",
     "output_type": "stream",
     "text": [
      "Revisando Matriz_Accion...\n",
      "1. Nombre: CHDRAUI, Datos: 0 valores\n",
      "2. Nombre: NAFTRAC, Datos: 0 valores\n",
      "3. Nombre: IPC, Datos: 0 valores\n",
      "4. Nombre: VMEX, Datos: 0 valores\n"
     ]
    }
   ],
   "source": [
    "print(\"Revisando Matriz_Accion...\")\n",
    "for i, accion in enumerate(Matriz_Accion):\n",
    "    print(f\"{i+1}. Nombre: {accion['Nombre']}, Datos: {len(accion['Datos'])} valores\")"
   ]
  },
  {
   "cell_type": "markdown",
   "metadata": {},
   "source": [
    "#Guardamos en archivo .mat con estructura vertical"
   ]
  },
  {
   "cell_type": "code",
   "execution_count": null,
   "metadata": {},
   "outputs": [],
   "source": [
    "ruta_archivo = \"**Ruta para guardar el archivo .mat**\"\n",
    "\n",
    "matlab_data = {\n",
    "    \"Lista_Acciones\": np.array(Lista_Acciones, dtype=object),\n",
    "    \"Matriz_Accion\": np.array(Matriz_Accion, dtype=object).reshape(-1, 1)  # Asegurar 3x1\n",
    "}\n",
    "\n",
    "scipy.io.savemat(ruta_archivo, matlab_data)\n",
    "print(f\"Archivo {ruta_archivo} creado con éxito.\")"
   ]
  }
 ],
 "metadata": {
  "kernelspec": {
   "display_name": "Python 3",
   "language": "python",
   "name": "python3"
  },
  "language_info": {
   "codemirror_mode": {
    "name": "ipython",
    "version": 3
   },
   "file_extension": ".py",
   "mimetype": "text/x-python",
   "name": "python",
   "nbconvert_exporter": "python",
   "pygments_lexer": "ipython3",
   "version": "3.12.2"
  }
 },
 "nbformat": 4,
 "nbformat_minor": 2
}
